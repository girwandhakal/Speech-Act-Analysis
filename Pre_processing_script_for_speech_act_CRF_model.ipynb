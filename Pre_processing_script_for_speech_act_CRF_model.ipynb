{
  "cells": [
    {
      "cell_type": "markdown",
      "metadata": {
        "id": "XOA5_zpNLHGS"
      },
      "source": [
        "**Author:** Girwan Dhakal  <br>\n",
        "**Affiliation:** The University of Alabama, Department of Computer Science <br>\n",
        "**Date:** 2025-09-23\n",
        "\n",
        "<hr>\n",
        "\n",
        "This Python notebook prepares data into the CSV format required by the CRF model accompanying Nikolaus et al.(2022)"
      ]
    },
    {
      "cell_type": "code",
      "execution_count": 1,
      "metadata": {
        "colab": {
          "base_uri": "https://localhost:8080/"
        },
        "id": "LhiKIcMZtZ9X",
        "outputId": "e935fedd-4fe0-4405-aaad-f88ad33f5e0c"
      },
      "outputs": [
        {
          "output_type": "stream",
          "name": "stdout",
          "text": [
            "Collecting childespy\n",
            "  Downloading childespy-1.0.1-py3-none-any.whl.metadata (1.5 kB)\n",
            "Requirement already satisfied: rpy2>=3.3.5 in /usr/local/lib/python3.12/dist-packages (from childespy) (3.5.17)\n",
            "Requirement already satisfied: numpy>=1.19.2 in /usr/local/lib/python3.12/dist-packages (from childespy) (2.0.2)\n",
            "Requirement already satisfied: pandas>=1.1.2 in /usr/local/lib/python3.12/dist-packages (from childespy) (2.2.2)\n",
            "Requirement already satisfied: python-dateutil>=2.8.2 in /usr/local/lib/python3.12/dist-packages (from pandas>=1.1.2->childespy) (2.9.0.post0)\n",
            "Requirement already satisfied: pytz>=2020.1 in /usr/local/lib/python3.12/dist-packages (from pandas>=1.1.2->childespy) (2025.2)\n",
            "Requirement already satisfied: tzdata>=2022.7 in /usr/local/lib/python3.12/dist-packages (from pandas>=1.1.2->childespy) (2025.2)\n",
            "Requirement already satisfied: cffi>=1.15.1 in /usr/local/lib/python3.12/dist-packages (from rpy2>=3.3.5->childespy) (2.0.0)\n",
            "Requirement already satisfied: jinja2 in /usr/local/lib/python3.12/dist-packages (from rpy2>=3.3.5->childespy) (3.1.6)\n",
            "Requirement already satisfied: tzlocal in /usr/local/lib/python3.12/dist-packages (from rpy2>=3.3.5->childespy) (5.3.1)\n",
            "Requirement already satisfied: pycparser in /usr/local/lib/python3.12/dist-packages (from cffi>=1.15.1->rpy2>=3.3.5->childespy) (2.23)\n",
            "Requirement already satisfied: six>=1.5 in /usr/local/lib/python3.12/dist-packages (from python-dateutil>=2.8.2->pandas>=1.1.2->childespy) (1.17.0)\n",
            "Requirement already satisfied: MarkupSafe>=2.0 in /usr/local/lib/python3.12/dist-packages (from jinja2->rpy2>=3.3.5->childespy) (3.0.2)\n",
            "Downloading childespy-1.0.1-py3-none-any.whl (17 kB)\n",
            "Installing collected packages: childespy\n",
            "Successfully installed childespy-1.0.1\n"
          ]
        }
      ],
      "source": [
        "!pip install childespy"
      ]
    },
    {
      "cell_type": "markdown",
      "metadata": {
        "id": "aqdygw9Vxa5Q"
      },
      "source": [
        "Import required packages"
      ]
    },
    {
      "cell_type": "code",
      "execution_count": 2,
      "metadata": {
        "colab": {
          "base_uri": "https://localhost:8080/"
        },
        "id": "haWCpdGFtLPc",
        "outputId": "e5d1db1b-1c5c-460b-d34b-a0ac9dbc4ddc"
      },
      "outputs": [
        {
          "output_type": "stream",
          "name": "stderr",
          "text": [
            "WARNING:rpy2.rinterface_lib.callbacks:R[write to console]: Error in (function (pkg, lib.loc = NULL)  : \n",
            "  there is no package called ‘childesr’\n",
            "\n",
            "WARNING:rpy2.rinterface_lib.callbacks:R[write to console]: Installing package into ‘/usr/local/lib/R/site-library’\n",
            "(as ‘lib’ is unspecified)\n",
            "\n"
          ]
        },
        {
          "output_type": "stream",
          "name": "stdout",
          "text": [
            "Installing childesr...\n"
          ]
        },
        {
          "output_type": "stream",
          "name": "stderr",
          "text": [
            "WARNING:rpy2.rinterface_lib.callbacks:R[write to console]: also installing the dependency ‘RMySQL’\n",
            "\n",
            "\n",
            "WARNING:rpy2.rinterface_lib.callbacks:R[write to console]: trying URL 'https://cran.rstudio.com/src/contrib/RMySQL_0.11.1.tar.gz'\n",
            "\n",
            "WARNING:rpy2.rinterface_lib.callbacks:R[write to console]: trying URL 'https://cran.rstudio.com/src/contrib/childesr_0.2.3.tar.gz'\n",
            "\n",
            "WARNING:rpy2.rinterface_lib.callbacks:R[write to console]: \n",
            "\n",
            "WARNING:rpy2.rinterface_lib.callbacks:R[write to console]: \n",
            "WARNING:rpy2.rinterface_lib.callbacks:R[write to console]: The downloaded source packages are in\n",
            "\t‘/tmp/Rtmp4R6Ssz/downloaded_packages’\n",
            "WARNING:rpy2.rinterface_lib.callbacks:R[write to console]: \n",
            "WARNING:rpy2.rinterface_lib.callbacks:R[write to console]: \n",
            "\n"
          ]
        }
      ],
      "source": [
        "import childespy as cpy\n",
        "import pandas as pd\n",
        "import json\n",
        "import os"
      ]
    },
    {
      "cell_type": "markdown",
      "metadata": {
        "id": "ygNML7SCh9JS"
      },
      "source": [
        "To apply to any childes dataset, replace the value in corpus_name to the dataset you are working on"
      ]
    },
    {
      "cell_type": "code",
      "execution_count": 3,
      "metadata": {
        "id": "jVk21v0M171A"
      },
      "outputs": [],
      "source": [
        "def prepare_childes_csv(corpus_name):\n",
        "    \"\"\"\n",
        "    Retrieves and processes speech data from the CHILDES corpus, then saves it as a CSV.\n",
        "\n",
        "    Args:\n",
        "        corpus_name (str): The name of the CHILDES corpus (e.g., 'Bliss').\n",
        "\n",
        "    Returns:\n",
        "        None. A CSV file named '<corpus_name>_data.csv' is saved to disk.\n",
        "    \"\"\"\n",
        "    output_filename = corpus_name + \"_data.csv\"\n",
        "    headers = ['utterance_id', 'transcript_file', 'child_id', 'age_months', 'tokens', 'pos', 'speaker_code']\n",
        "\n",
        "    # Get utterance data\n",
        "    utterances_df = cpy.get_utterances(corpus=[corpus_name])\n",
        "    if utterances_df.empty:\n",
        "        print(f\"No utterances found for corpus '{corpus_name}'\")\n",
        "        return\n",
        "    utterances_df.rename(columns={'id': 'utterance_id'}, inplace=True)\n",
        "\n",
        "    # Get transcript metadata\n",
        "    transcripts_df = cpy.get_transcripts(corpus=corpus_name)\n",
        "    if transcripts_df.empty:\n",
        "        print(f\"No transcripts found for corpus '{corpus_name}'. Cannot determine transcript file names.\")\n",
        "        return\n",
        "\n",
        "    # Merge utterances with transcript metadata\n",
        "    merged_utterances_df = pd.merge(utterances_df, transcripts_df, on='transcript_id')\n",
        "\n",
        "    # Get tokens and POS tags\n",
        "    tokens_df = cpy.get_tokens(corpus=corpus_name, token=\"%\")\n",
        "    if tokens_df.empty:\n",
        "        print(f\"No tokens found for corpus '{corpus_name}'. This might indicate an issue or empty corpus.\")\n",
        "        return\n",
        "\n",
        "    # Group tokens and POS by utterance\n",
        "    aggregated_tokens = tokens_df.groupby('utterance_id').agg({\n",
        "        'gloss': lambda x: list(x),\n",
        "        'part_of_speech': lambda x: list(x)\n",
        "    }).reset_index()\n",
        "\n",
        "    # Merge tokens into the main DataFrame\n",
        "    final_merged_df = pd.merge(merged_utterances_df, aggregated_tokens, on='utterance_id', how='inner')\n",
        "\n",
        "    # Rename key columns for consistency\n",
        "    rename = {\n",
        "        'part_of_speech_y': 'pos',\n",
        "        'transcript_id': 'transcript_file',\n",
        "        'target_child_age_x': 'age_months',\n",
        "        'gloss_y': 'tokens',\n",
        "        'target_child_id_x': 'child_id'\n",
        "    }\n",
        "    final_merged_df.rename(columns=rename, inplace=True)\n",
        "\n",
        "    # Keep only needed columns\n",
        "    final_merged_df = final_merged_df[headers]\n",
        "    final_df = final_merged_df.copy()\n",
        "\n",
        "    # Convert lists to JSON strings for CSV compatibility\n",
        "    final_df['tokens'] = final_df['tokens'].apply(json.dumps)\n",
        "    final_df['pos'] = final_df['pos'].apply(json.dumps)\n",
        "\n",
        "    # Save to CSV\n",
        "    print(f\"Saving data to {output_filename}...\")\n",
        "    final_df.to_csv(output_filename, index=False)\n",
        "    print(f\"Data successfully saved to {output_filename}\")\n",
        "\n"
      ]
    },
    {
      "cell_type": "markdown",
      "metadata": {
        "id": "errzLU3pxURu"
      },
      "source": [
        "Run the method on the selected datasets"
      ]
    },
    {
      "cell_type": "code",
      "execution_count": 5,
      "metadata": {
        "colab": {
          "base_uri": "https://localhost:8080/"
        },
        "id": "CVoqQhte5uuO",
        "outputId": "60baf370-3971-4781-9f6c-c1cb24943ba8"
      },
      "outputs": [
        {
          "output_type": "stream",
          "name": "stderr",
          "text": [
            "WARNING:rpy2.rinterface_lib.callbacks:R[write to console]: Using current database version: '2021.1'.\n",
            "\n",
            "WARNING:rpy2.rinterface_lib.callbacks:R[write to console]: Getting data from 14 children in 2 corpora...\n",
            "\n",
            "WARNING:rpy2.rinterface_lib.callbacks:R[write to console]: Using current database version: '2021.1'.\n",
            "\n",
            "WARNING:rpy2.rinterface_lib.callbacks:R[write to console]: Using current database version: '2021.1'.\n",
            "\n",
            "WARNING:rpy2.rinterface_lib.callbacks:R[write to console]: Getting data from 14 children in 2 corpora...\n",
            "\n"
          ]
        },
        {
          "output_type": "stream",
          "name": "stdout",
          "text": [
            "Saving data to Bliss_data.csv...\n",
            "Data successfully saved to Bliss_data.csv\n"
          ]
        },
        {
          "output_type": "stream",
          "name": "stderr",
          "text": [
            "WARNING:rpy2.rinterface_lib.callbacks:R[write to console]: Using current database version: '2021.1'.\n",
            "\n",
            "WARNING:rpy2.rinterface_lib.callbacks:R[write to console]: Getting data from 1 child in 1 corpus ...\n",
            "\n",
            "WARNING:rpy2.rinterface_lib.callbacks:R[write to console]: Using current database version: '2021.1'.\n",
            "\n",
            "WARNING:rpy2.rinterface_lib.callbacks:R[write to console]: Using current database version: '2021.1'.\n",
            "\n",
            "WARNING:rpy2.rinterface_lib.callbacks:R[write to console]: Getting data from 1 child in 1 corpus ...\n",
            "\n"
          ]
        },
        {
          "output_type": "stream",
          "name": "stdout",
          "text": [
            "Saving data to EisenbergGuo_data.csv...\n",
            "Data successfully saved to EisenbergGuo_data.csv\n"
          ]
        },
        {
          "output_type": "stream",
          "name": "stderr",
          "text": [
            "WARNING:rpy2.rinterface_lib.callbacks:R[write to console]: Using current database version: '2021.1'.\n",
            "\n",
            "WARNING:rpy2.rinterface_lib.callbacks:R[write to console]: Getting data from 1 child in 1 corpus ...\n",
            "\n",
            "WARNING:rpy2.rinterface_lib.callbacks:R[write to console]: Using current database version: '2021.1'.\n",
            "\n",
            "WARNING:rpy2.rinterface_lib.callbacks:R[write to console]: Using current database version: '2021.1'.\n",
            "\n",
            "WARNING:rpy2.rinterface_lib.callbacks:R[write to console]: Getting data from 1 child in 1 corpus ...\n",
            "\n"
          ]
        },
        {
          "output_type": "stream",
          "name": "stdout",
          "text": [
            "Saving data to ENNI_data.csv...\n",
            "Data successfully saved to ENNI_data.csv\n"
          ]
        },
        {
          "output_type": "stream",
          "name": "stderr",
          "text": [
            "WARNING:rpy2.rinterface_lib.callbacks:R[write to console]: Using current database version: '2021.1'.\n",
            "\n",
            "WARNING:rpy2.rinterface_lib.callbacks:R[write to console]: Getting data from 5 children in 1 corpus ...\n",
            "\n",
            "WARNING:rpy2.rinterface_lib.callbacks:R[write to console]: Using current database version: '2021.1'.\n",
            "\n",
            "WARNING:rpy2.rinterface_lib.callbacks:R[write to console]: Using current database version: '2021.1'.\n",
            "\n",
            "WARNING:rpy2.rinterface_lib.callbacks:R[write to console]: Getting data from 5 children in 1 corpus ...\n",
            "\n"
          ]
        },
        {
          "output_type": "stream",
          "name": "stdout",
          "text": [
            "Saving data to Hargrove_data.csv...\n",
            "Data successfully saved to Hargrove_data.csv\n"
          ]
        },
        {
          "output_type": "stream",
          "name": "stderr",
          "text": [
            "WARNING:rpy2.rinterface_lib.callbacks:R[write to console]: Using current database version: '2021.1'.\n",
            "\n",
            "WARNING:rpy2.rinterface_lib.callbacks:R[write to console]: Getting data from 50 children in 1 corpus ...\n",
            "\n",
            "WARNING:rpy2.rinterface_lib.callbacks:R[write to console]: Using current database version: '2021.1'.\n",
            "\n",
            "WARNING:rpy2.rinterface_lib.callbacks:R[write to console]: Using current database version: '2021.1'.\n",
            "\n",
            "WARNING:rpy2.rinterface_lib.callbacks:R[write to console]: Getting data from 50 children in 1 corpus ...\n",
            "\n"
          ]
        },
        {
          "output_type": "stream",
          "name": "stdout",
          "text": [
            "Saving data to Rescorla_data.csv...\n",
            "Data successfully saved to Rescorla_data.csv\n"
          ]
        },
        {
          "output_type": "stream",
          "name": "stderr",
          "text": [
            "WARNING:rpy2.rinterface_lib.callbacks:R[write to console]: Using current database version: '2021.1'.\n",
            "\n",
            "WARNING:rpy2.rinterface_lib.callbacks:R[write to console]: Getting data from 15 children in 1 corpus ...\n",
            "\n",
            "WARNING:rpy2.rinterface_lib.callbacks:R[write to console]: Using current database version: '2021.1'.\n",
            "\n",
            "WARNING:rpy2.rinterface_lib.callbacks:R[write to console]: Using current database version: '2021.1'.\n",
            "\n",
            "WARNING:rpy2.rinterface_lib.callbacks:R[write to console]: Getting data from 15 children in 1 corpus ...\n",
            "\n"
          ]
        },
        {
          "output_type": "stream",
          "name": "stdout",
          "text": [
            "Saving data to UCSD_data.csv...\n",
            "Data successfully saved to UCSD_data.csv\n"
          ]
        },
        {
          "output_type": "stream",
          "name": "stderr",
          "text": [
            "WARNING:rpy2.rinterface_lib.callbacks:R[write to console]: Using current database version: '2021.1'.\n",
            "\n",
            "WARNING:rpy2.rinterface_lib.callbacks:R[write to console]: Getting data from 18 children in 1 corpus ...\n",
            "\n",
            "WARNING:rpy2.rinterface_lib.callbacks:R[write to console]: Using current database version: '2021.1'.\n",
            "\n",
            "WARNING:rpy2.rinterface_lib.callbacks:R[write to console]: Using current database version: '2021.1'.\n",
            "\n",
            "WARNING:rpy2.rinterface_lib.callbacks:R[write to console]: Getting data from 18 children in 1 corpus ...\n",
            "\n"
          ]
        },
        {
          "output_type": "stream",
          "name": "stdout",
          "text": [
            "Saving data to Conti1_data.csv...\n",
            "Data successfully saved to Conti1_data.csv\n"
          ]
        },
        {
          "output_type": "stream",
          "name": "stderr",
          "text": [
            "WARNING:rpy2.rinterface_lib.callbacks:R[write to console]: Using current database version: '2021.1'.\n",
            "\n",
            "WARNING:rpy2.rinterface_lib.callbacks:R[write to console]: Getting data from 6 children in 1 corpus ...\n",
            "\n",
            "WARNING:rpy2.rinterface_lib.callbacks:R[write to console]: Using current database version: '2021.1'.\n",
            "\n",
            "WARNING:rpy2.rinterface_lib.callbacks:R[write to console]: Using current database version: '2021.1'.\n",
            "\n",
            "WARNING:rpy2.rinterface_lib.callbacks:R[write to console]: Getting data from 6 children in 1 corpus ...\n",
            "\n"
          ]
        },
        {
          "output_type": "stream",
          "name": "stdout",
          "text": [
            "Saving data to Conti2_data.csv...\n",
            "Data successfully saved to Conti2_data.csv\n"
          ]
        },
        {
          "output_type": "stream",
          "name": "stderr",
          "text": [
            "WARNING:rpy2.rinterface_lib.callbacks:R[write to console]: Using current database version: '2021.1'.\n",
            "\n",
            "WARNING:rpy2.rinterface_lib.callbacks:R[write to console]: Getting data from 4 children in 1 corpus ...\n",
            "\n",
            "WARNING:rpy2.rinterface_lib.callbacks:R[write to console]: Using current database version: '2021.1'.\n",
            "\n",
            "WARNING:rpy2.rinterface_lib.callbacks:R[write to console]: Using current database version: '2021.1'.\n",
            "\n",
            "WARNING:rpy2.rinterface_lib.callbacks:R[write to console]: Getting data from 4 children in 1 corpus ...\n",
            "\n"
          ]
        },
        {
          "output_type": "stream",
          "name": "stdout",
          "text": [
            "Saving data to Conti3_data.csv...\n",
            "Data successfully saved to Conti3_data.csv\n"
          ]
        },
        {
          "output_type": "stream",
          "name": "stderr",
          "text": [
            "WARNING:rpy2.rinterface_lib.callbacks:R[write to console]: Using current database version: '2021.1'.\n",
            "\n",
            "WARNING:rpy2.rinterface_lib.callbacks:R[write to console]: Getting data from 11 children in 1 corpus ...\n",
            "\n",
            "WARNING:rpy2.rinterface_lib.callbacks:R[write to console]: Using current database version: '2021.1'.\n",
            "\n",
            "WARNING:rpy2.rinterface_lib.callbacks:R[write to console]: Using current database version: '2021.1'.\n",
            "\n",
            "WARNING:rpy2.rinterface_lib.callbacks:R[write to console]: Getting data from 11 children in 1 corpus ...\n",
            "\n"
          ]
        },
        {
          "output_type": "stream",
          "name": "stdout",
          "text": [
            "Saving data to EllisWeismer_data.csv...\n",
            "Data successfully saved to EllisWeismer_data.csv\n"
          ]
        }
      ],
      "source": [
        "#You can modify the list according to project requirement\n",
        "corpora = [\n",
        "    \"Bliss\",\n",
        "    \"EisenbergGuo\",\n",
        "    \"ENNI\",\n",
        "    \"Hargrove\",\n",
        "    \"Rescorla\",\n",
        "    \"UCSD\",\n",
        "    \"Conti1\",\n",
        "    \"Conti2\",\n",
        "    \"Conti3\",\n",
        "    \"EllisWeismer\"\n",
        "]\n",
        "\n",
        "\n",
        "for corpus in corpora:\n",
        "  prepare_childes_csv(corpus)"
      ]
    }
  ],
  "metadata": {
    "colab": {
      "provenance": []
    },
    "kernelspec": {
      "display_name": "Python 3",
      "name": "python3"
    },
    "language_info": {
      "name": "python"
    }
  },
  "nbformat": 4,
  "nbformat_minor": 0
}